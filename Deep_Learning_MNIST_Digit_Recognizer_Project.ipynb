{
  "nbformat": 4,
  "nbformat_minor": 0,
  "metadata": {
    "colab": {
      "provenance": []
    },
    "kernelspec": {
      "name": "python3",
      "display_name": "Python 3"
    },
    "language_info": {
      "name": "python"
    }
  },
  "cells": [
    {
      "cell_type": "markdown",
      "source": [
        "# Handwritten Digit Classifier using  Tensorflow, Keras with 96.9% accuracy\n",
        "MNIST Dataset\n",
        "\n",
        "The MNIST database (Modified National Institute of Standards and Technology database) is a large database of handwritten digits that is commonly used for training various image processing systems. This dataset is considered to be the \"hello world\" dataset for Computer Vision.\n",
        "\n",
        "It has a training set of 60,000 examples and a test set of 10,000 examples for handwritten digits with a fixed dimension of 28X28 pixels. The goal is to correctly identify digits and find ways to improve the performance of the model."
      ],
      "metadata": {
        "id": "_6Q3Rgzj3WJL"
      }
    },
    {
      "cell_type": "code",
      "execution_count": 79,
      "metadata": {
        "id": "2QLXesnvctiM"
      },
      "outputs": [],
      "source": [
        "# Import the required libraries\n",
        "import tensorflow as tf\n",
        "import numpy as np\n",
        "mnsit = tf.keras.datasets.mnist\n",
        "\n",
        "# Loading MNIST data\n",
        "(x_train, y_train), (x_test, y_test) = mnsit.load_data()\n",
        "\n",
        "x_train = tf.keras.utils.normalize(x_train, axis =1)\n",
        "x_test = tf.keras.utils.normalize(x_test, axis =1)"
      ]
    },
    {
      "cell_type": "markdown",
      "source": [
        "Sequential API allows to create models layer-by-layer"
      ],
      "metadata": {
        "id": "J6ke3-a36Uh2"
      }
    },
    {
      "cell_type": "code",
      "source": [
        "model = tf.keras.models.Sequential()"
      ],
      "metadata": {
        "id": "YTClscUw6Qyp"
      },
      "execution_count": null,
      "outputs": []
    },
    {
      "cell_type": "markdown",
      "source": [
        "# Hidden Layers and Activation Function\n",
        "In artificial neural networks, the activation function of a node defines the output of that node given an input or set of inputs. ReLU stands for rectified linear unit, and is a type of activation function.\n",
        "\n",
        "ReLU:f(x)=max(0,x)\n",
        "\n",
        "\n",
        "The Softmax Activation represents a probability distribution over n different possible outcomes. Its values are all non-negative and sum to 1. For example, if the final output is: [0, 0.94, 0, 0, 0, 0, 0, 0.06, 0, 0] then it is most probable that the image is that of the digit 1"
      ],
      "metadata": {
        "id": "5ixOiYwv7kde"
      }
    },
    {
      "cell_type": "code",
      "source": [
        "# Flattening is converting the data into a 1-dimensional array for inputting it to the next layer\n",
        "model.add(tf.keras.layers.Flatten())\n",
        "\n",
        "# First Hidden Layer\n",
        "model.add(tf.keras.layers.Dense(128, activation =tf.nn.relu))\n",
        "\n",
        "# Second Hidden Layer\n",
        "model.add(tf.keras.layers.Dense(128, activation =tf.nn.relu))\n",
        "\n",
        "# Third Hidden Layer\n",
        "model.add(tf.keras.layers.Dense(10, activation =tf.nn.softmax))"
      ],
      "metadata": {
        "id": "hB5K_9Xf6MkB"
      },
      "execution_count": null,
      "outputs": []
    },
    {
      "cell_type": "markdown",
      "source": [
        "# Compiling the model"
      ],
      "metadata": {
        "id": "tWbN68M44BHq"
      }
    },
    {
      "cell_type": "code",
      "source": [
        "model.compile(optimizer= 'adam', loss ='sparse_categorical_crossentropy', metrics = ['Accuracy'])"
      ],
      "metadata": {
        "id": "Q0U9mjMh36Ru"
      },
      "execution_count": 80,
      "outputs": []
    },
    {
      "cell_type": "markdown",
      "source": [
        "The loss function used here is called categorical cross-entropy and is a loss function well-suited to comparing two probability distributions. The cross-entropy is a measure of how different your predicted distribution is from the target distribution.\n",
        "\n",
        "Optimizers are algorithms or methods used to change the attributes of the neural network such as weights and learning rate to reduce the losses. Optimizers are used to solve optimization problems by minimizing the loss function. In our case, we use the Adam Optimizer."
      ],
      "metadata": {
        "id": "V_nImvxs8Mst"
      }
    },
    {
      "cell_type": "code",
      "source": [
        "model.fit(x_train, y_train, epochs =3)"
      ],
      "metadata": {
        "colab": {
          "base_uri": "https://localhost:8080/"
        },
        "id": "7fLbZArm3-Mu",
        "outputId": "ff967144-22c2-4f47-9f47-4dbec64849ca"
      },
      "execution_count": 81,
      "outputs": [
        {
          "output_type": "stream",
          "name": "stdout",
          "text": [
            "Epoch 1/3\n",
            "1875/1875 [==============================] - 8s 4ms/step - loss: 0.2621 - Accuracy: 0.9238\n",
            "Epoch 2/3\n",
            "1875/1875 [==============================] - 8s 4ms/step - loss: 0.1063 - Accuracy: 0.9668\n",
            "Epoch 3/3\n",
            "1875/1875 [==============================] - 9s 5ms/step - loss: 0.0735 - Accuracy: 0.9770\n"
          ]
        },
        {
          "output_type": "execute_result",
          "data": {
            "text/plain": [
              "<keras.callbacks.History at 0x7a5b14b2dae0>"
            ]
          },
          "metadata": {},
          "execution_count": 81
        }
      ]
    },
    {
      "cell_type": "markdown",
      "source": [
        "# Evaluating the Model\n",
        "\n",
        "We will now evaluate our model and find its accuracy"
      ],
      "metadata": {
        "id": "Ftxt5iZE2xGZ"
      }
    },
    {
      "cell_type": "code",
      "source": [
        "val_loss, val_acc = model.evaluate(x_test, y_test)\n",
        "print (val_loss, val_acc)"
      ],
      "metadata": {
        "colab": {
          "base_uri": "https://localhost:8080/"
        },
        "id": "Nr1pRgstjA1Y",
        "outputId": "c5788b5d-c9c7-43fd-ca44-8074c3861c65"
      },
      "execution_count": 82,
      "outputs": [
        {
          "output_type": "stream",
          "name": "stdout",
          "text": [
            "313/313 [==============================] - 1s 2ms/step - loss: 0.0951 - Accuracy: 0.9704\n",
            "0.09511736780405045 0.9703999757766724\n"
          ]
        }
      ]
    },
    {
      "cell_type": "code",
      "source": [
        "import matplotlib.pyplot as plt\n",
        "plt.imshow(x_train[0], cmap =plt.cm.binary)\n",
        "plt.show()\n",
        "#print(x_train[0])\n"
      ],
      "metadata": {
        "colab": {
          "base_uri": "https://localhost:8080/",
          "height": 430
        },
        "id": "1_DnavNpejqM",
        "outputId": "d5d2a033-c828-4fa4-ee8c-5bce1b5d7cc2"
      },
      "execution_count": 83,
      "outputs": [
        {
          "output_type": "display_data",
          "data": {
            "text/plain": [
              "<Figure size 640x480 with 1 Axes>"
            ],
            "image/png": "[encoded data removed]"
          },
          "metadata": {}
        }
      ]
    },
    {
      "cell_type": "markdown",
      "source": [
        "# Saving the model"
      ],
      "metadata": {
        "id": "Ll00Ac5x4kz2"
      }
    },
    {
      "cell_type": "code",
      "source": [
        "model.save ('epic_num_reader.model')"
      ],
      "metadata": {
        "colab": {
          "base_uri": "https://localhost:8080/"
        },
        "id": "1hUGLKn5kFoB",
        "outputId": "6997b588-aa40-41b8-f34d-5ce04fd6c9df"
      },
      "execution_count": 84,
      "outputs": [
        {
          "output_type": "stream",
          "name": "stderr",
          "text": [
            "WARNING:absl:Found untraced functions such as _update_step_xla while saving (showing 1 of 1). These functions will not be directly callable after loading.\n"
          ]
        }
      ]
    },
    {
      "cell_type": "markdown",
      "source": [
        "# Reloading the model"
      ],
      "metadata": {
        "id": "nrjarP5x4o7q"
      }
    },
    {
      "cell_type": "code",
      "source": [
        "new_model = tf.keras.models.load_model('epic_num_reader.model')"
      ],
      "metadata": {
        "id": "JC0SSGM0kRYq"
      },
      "execution_count": 85,
      "outputs": []
    },
    {
      "cell_type": "markdown",
      "source": [
        "# Prediction"
      ],
      "metadata": {
        "id": "z7mY71tJ4ukC"
      }
    },
    {
      "cell_type": "code",
      "source": [
        "predictions = new_model.predict([x_test])"
      ],
      "metadata": {
        "colab": {
          "base_uri": "https://localhost:8080/"
        },
        "id": "7ojV2u411So5",
        "outputId": "0bc24286-345f-4d89-90e8-ccd617fe1bba"
      },
      "execution_count": 86,
      "outputs": [
        {
          "output_type": "stream",
          "name": "stdout",
          "text": [
            "313/313 [==============================] - 1s 2ms/step\n"
          ]
        }
      ]
    },
    {
      "cell_type": "code",
      "source": [
        "#print(predictions)\n",
        "\n",
        "print(np.argmax(predictions[12]))"
      ],
      "metadata": {
        "colab": {
          "base_uri": "https://localhost:8080/"
        },
        "id": "a8GxAmqV1fSP",
        "outputId": "885ae872-db85-42cd-bc64-4d8d8625733c"
      },
      "execution_count": 87,
      "outputs": [
        {
          "output_type": "stream",
          "name": "stdout",
          "text": [
            "9\n"
          ]
        }
      ]
    },
    {
      "cell_type": "markdown",
      "source": [
        "# Test"
      ],
      "metadata": {
        "id": "hiQKnsO55Ei1"
      }
    },
    {
      "cell_type": "code",
      "source": [
        "plt.imshow(x_test[12])"
      ],
      "metadata": {
        "colab": {
          "base_uri": "https://localhost:8080/",
          "height": 447
        },
        "id": "Be9ru3lR16f6",
        "outputId": "7654738d-0a2b-4e84-b150-0d16c9271ee5"
      },
      "execution_count": 88,
      "outputs": [
        {
          "output_type": "execute_result",
          "data": {
            "text/plain": [
              "<matplotlib.image.AxesImage at 0x7a5afc25d6c0>"
            ]
          },
          "metadata": {},
          "execution_count": 88
        },
        {
          "output_type": "display_data",
          "data": {
            "text/plain": [
              "<Figure size 640x480 with 1 Axes>"
            ],
            "image/png": "[encoded data removed]"
          },
          "metadata": {}
        }
      ]
    }
  ]
}